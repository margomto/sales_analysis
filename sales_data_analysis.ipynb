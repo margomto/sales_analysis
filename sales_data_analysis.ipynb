{
 "cells": [
  {
   "cell_type": "markdown",
   "metadata": {},
   "source": [
    "# Miniproyecto Data Science 📊"
   ]
  },
  {
   "cell_type": "markdown",
   "metadata": {},
   "source": [
    "Se dispone de un conjunto de datos en el que se recoge información sobre ventas y dinero gastado en distintas campañas de publicidad. Lo priemro que debe hacerse es cargar el archivo csv para crear un dataframe."
   ]
  },
  {
   "cell_type": "code",
   "execution_count": 1,
   "metadata": {},
   "outputs": [
    {
     "data": {
      "text/html": [
       "<div>\n",
       "<style scoped>\n",
       "    .dataframe tbody tr th:only-of-type {\n",
       "        vertical-align: middle;\n",
       "    }\n",
       "\n",
       "    .dataframe tbody tr th {\n",
       "        vertical-align: top;\n",
       "    }\n",
       "\n",
       "    .dataframe thead th {\n",
       "        text-align: right;\n",
       "    }\n",
       "</style>\n",
       "<table border=\"1\" class=\"dataframe\">\n",
       "  <thead>\n",
       "    <tr style=\"text-align: right;\">\n",
       "      <th></th>\n",
       "      <th>id</th>\n",
       "      <th>TV</th>\n",
       "      <th>radio</th>\n",
       "      <th>newspaper</th>\n",
       "      <th>sales</th>\n",
       "    </tr>\n",
       "  </thead>\n",
       "  <tbody>\n",
       "    <tr>\n",
       "      <th>0</th>\n",
       "      <td>1</td>\n",
       "      <td>230.1</td>\n",
       "      <td>37.8</td>\n",
       "      <td>69.2</td>\n",
       "      <td>22.1</td>\n",
       "    </tr>\n",
       "    <tr>\n",
       "      <th>1</th>\n",
       "      <td>2</td>\n",
       "      <td>44.5</td>\n",
       "      <td>39.3</td>\n",
       "      <td>45.1</td>\n",
       "      <td>10.4</td>\n",
       "    </tr>\n",
       "    <tr>\n",
       "      <th>2</th>\n",
       "      <td>3</td>\n",
       "      <td>17.2</td>\n",
       "      <td>45.9</td>\n",
       "      <td>69.3</td>\n",
       "      <td>9.3</td>\n",
       "    </tr>\n",
       "    <tr>\n",
       "      <th>3</th>\n",
       "      <td>4</td>\n",
       "      <td>151.5</td>\n",
       "      <td>41.3</td>\n",
       "      <td>58.5</td>\n",
       "      <td>18.5</td>\n",
       "    </tr>\n",
       "    <tr>\n",
       "      <th>4</th>\n",
       "      <td>5</td>\n",
       "      <td>180.8</td>\n",
       "      <td>10.8</td>\n",
       "      <td>58.4</td>\n",
       "      <td>12.9</td>\n",
       "    </tr>\n",
       "    <tr>\n",
       "      <th>...</th>\n",
       "      <td>...</td>\n",
       "      <td>...</td>\n",
       "      <td>...</td>\n",
       "      <td>...</td>\n",
       "      <td>...</td>\n",
       "    </tr>\n",
       "    <tr>\n",
       "      <th>205</th>\n",
       "      <td>196</td>\n",
       "      <td>38.2</td>\n",
       "      <td>3.7</td>\n",
       "      <td>13.8</td>\n",
       "      <td>7.6</td>\n",
       "    </tr>\n",
       "    <tr>\n",
       "      <th>206</th>\n",
       "      <td>197</td>\n",
       "      <td>94.2</td>\n",
       "      <td>4.9</td>\n",
       "      <td>8.1</td>\n",
       "      <td>9.7</td>\n",
       "    </tr>\n",
       "    <tr>\n",
       "      <th>207</th>\n",
       "      <td>198</td>\n",
       "      <td>177.0</td>\n",
       "      <td>9.3</td>\n",
       "      <td>6.4</td>\n",
       "      <td>12.8</td>\n",
       "    </tr>\n",
       "    <tr>\n",
       "      <th>208</th>\n",
       "      <td>199</td>\n",
       "      <td>NaN</td>\n",
       "      <td>42.0</td>\n",
       "      <td>66.2</td>\n",
       "      <td>25.5</td>\n",
       "    </tr>\n",
       "    <tr>\n",
       "      <th>209</th>\n",
       "      <td>200</td>\n",
       "      <td>232.1</td>\n",
       "      <td>8.6</td>\n",
       "      <td>8.7</td>\n",
       "      <td>13.4</td>\n",
       "    </tr>\n",
       "  </tbody>\n",
       "</table>\n",
       "<p>210 rows × 5 columns</p>\n",
       "</div>"
      ],
      "text/plain": [
       "      id     TV  radio  newspaper  sales\n",
       "0      1  230.1   37.8       69.2   22.1\n",
       "1      2   44.5   39.3       45.1   10.4\n",
       "2      3   17.2   45.9       69.3    9.3\n",
       "3      4  151.5   41.3       58.5   18.5\n",
       "4      5  180.8   10.8       58.4   12.9\n",
       "..   ...    ...    ...        ...    ...\n",
       "205  196   38.2    3.7       13.8    7.6\n",
       "206  197   94.2    4.9        8.1    9.7\n",
       "207  198  177.0    9.3        6.4   12.8\n",
       "208  199    NaN   42.0       66.2   25.5\n",
       "209  200  232.1    8.6        8.7   13.4\n",
       "\n",
       "[210 rows x 5 columns]"
      ]
     },
     "execution_count": 1,
     "metadata": {},
     "output_type": "execute_result"
    }
   ],
   "source": [
    "%matplotlib inline\n",
    "import matplotlib.pyplot as plt\n",
    "import pandas as pd\n",
    "import numpy as np\n",
    "import seaborn as sns; sns.set_theme(color_codes=True)\n",
    "\n",
    "sales = pd.read_csv('sales.csv')\n",
    "sales"
   ]
  },
  {
   "cell_type": "markdown",
   "metadata": {},
   "source": [
    "## Paso 1"
   ]
  },
  {
   "cell_type": "markdown",
   "metadata": {},
   "source": [
    "### Limpieza de datos 🧹"
   ]
  },
  {
   "cell_type": "markdown",
   "metadata": {},
   "source": [
    "A través de la función `describe()` puede obtenerse información relevante sobre los datos del dataframe"
   ]
  },
  {
   "cell_type": "code",
   "execution_count": 2,
   "metadata": {},
   "outputs": [
    {
     "data": {
      "text/html": [
       "<div>\n",
       "<style scoped>\n",
       "    .dataframe tbody tr th:only-of-type {\n",
       "        vertical-align: middle;\n",
       "    }\n",
       "\n",
       "    .dataframe tbody tr th {\n",
       "        vertical-align: top;\n",
       "    }\n",
       "\n",
       "    .dataframe thead th {\n",
       "        text-align: right;\n",
       "    }\n",
       "</style>\n",
       "<table border=\"1\" class=\"dataframe\">\n",
       "  <thead>\n",
       "    <tr style=\"text-align: right;\">\n",
       "      <th></th>\n",
       "      <th>id</th>\n",
       "      <th>TV</th>\n",
       "      <th>radio</th>\n",
       "      <th>newspaper</th>\n",
       "      <th>sales</th>\n",
       "    </tr>\n",
       "  </thead>\n",
       "  <tbody>\n",
       "    <tr>\n",
       "      <th>count</th>\n",
       "      <td>210.000000</td>\n",
       "      <td>2.070000e+02</td>\n",
       "      <td>210.000000</td>\n",
       "      <td>210.000000</td>\n",
       "      <td>210.000000</td>\n",
       "    </tr>\n",
       "    <tr>\n",
       "      <th>mean</th>\n",
       "      <td>100.809524</td>\n",
       "      <td>1.449275e+10</td>\n",
       "      <td>23.200476</td>\n",
       "      <td>30.294762</td>\n",
       "      <td>13.959048</td>\n",
       "    </tr>\n",
       "    <tr>\n",
       "      <th>std</th>\n",
       "      <td>57.399481</td>\n",
       "      <td>1.198000e+11</td>\n",
       "      <td>14.827575</td>\n",
       "      <td>21.726517</td>\n",
       "      <td>5.196055</td>\n",
       "    </tr>\n",
       "    <tr>\n",
       "      <th>min</th>\n",
       "      <td>1.000000</td>\n",
       "      <td>7.000000e-01</td>\n",
       "      <td>0.000000</td>\n",
       "      <td>0.300000</td>\n",
       "      <td>1.600000</td>\n",
       "    </tr>\n",
       "    <tr>\n",
       "      <th>25%</th>\n",
       "      <td>52.250000</td>\n",
       "      <td>7.405000e+01</td>\n",
       "      <td>10.025000</td>\n",
       "      <td>12.025000</td>\n",
       "      <td>10.400000</td>\n",
       "    </tr>\n",
       "    <tr>\n",
       "      <th>50%</th>\n",
       "      <td>101.500000</td>\n",
       "      <td>1.498000e+02</td>\n",
       "      <td>22.400000</td>\n",
       "      <td>25.750000</td>\n",
       "      <td>12.900000</td>\n",
       "    </tr>\n",
       "    <tr>\n",
       "      <th>75%</th>\n",
       "      <td>149.750000</td>\n",
       "      <td>2.200500e+02</td>\n",
       "      <td>36.575000</td>\n",
       "      <td>44.900000</td>\n",
       "      <td>17.300000</td>\n",
       "    </tr>\n",
       "    <tr>\n",
       "      <th>max</th>\n",
       "      <td>200.000000</td>\n",
       "      <td>1.000000e+12</td>\n",
       "      <td>49.600000</td>\n",
       "      <td>114.000000</td>\n",
       "      <td>27.000000</td>\n",
       "    </tr>\n",
       "  </tbody>\n",
       "</table>\n",
       "</div>"
      ],
      "text/plain": [
       "               id            TV       radio   newspaper       sales\n",
       "count  210.000000  2.070000e+02  210.000000  210.000000  210.000000\n",
       "mean   100.809524  1.449275e+10   23.200476   30.294762   13.959048\n",
       "std     57.399481  1.198000e+11   14.827575   21.726517    5.196055\n",
       "min      1.000000  7.000000e-01    0.000000    0.300000    1.600000\n",
       "25%     52.250000  7.405000e+01   10.025000   12.025000   10.400000\n",
       "50%    101.500000  1.498000e+02   22.400000   25.750000   12.900000\n",
       "75%    149.750000  2.200500e+02   36.575000   44.900000   17.300000\n",
       "max    200.000000  1.000000e+12   49.600000  114.000000   27.000000"
      ]
     },
     "execution_count": 2,
     "metadata": {},
     "output_type": "execute_result"
    }
   ],
   "source": [
    "description = sales.describe()\n",
    "description"
   ]
  },
  {
   "cell_type": "markdown",
   "metadata": {},
   "source": [
    "Puede observarse que en la columna de **TV** hay menos datos que en las demás, lo que indica que debe haber datos vacíos. Además, en la columna **id** el máximo es 200, sin embargo, hay 210 filas, por lo que debe haber datos repetidos. \n",
    "Para solucionar esto, se hace lo siguiente: "
   ]
  },
  {
   "cell_type": "code",
   "execution_count": 3,
   "metadata": {},
   "outputs": [
    {
     "data": {
      "text/html": [
       "<div>\n",
       "<style scoped>\n",
       "    .dataframe tbody tr th:only-of-type {\n",
       "        vertical-align: middle;\n",
       "    }\n",
       "\n",
       "    .dataframe tbody tr th {\n",
       "        vertical-align: top;\n",
       "    }\n",
       "\n",
       "    .dataframe thead th {\n",
       "        text-align: right;\n",
       "    }\n",
       "</style>\n",
       "<table border=\"1\" class=\"dataframe\">\n",
       "  <thead>\n",
       "    <tr style=\"text-align: right;\">\n",
       "      <th></th>\n",
       "      <th>id</th>\n",
       "      <th>TV</th>\n",
       "      <th>radio</th>\n",
       "      <th>newspaper</th>\n",
       "      <th>sales</th>\n",
       "    </tr>\n",
       "  </thead>\n",
       "  <tbody>\n",
       "    <tr>\n",
       "      <th>count</th>\n",
       "      <td>197.000000</td>\n",
       "      <td>1.970000e+02</td>\n",
       "      <td>197.000000</td>\n",
       "      <td>197.000000</td>\n",
       "      <td>197.000000</td>\n",
       "    </tr>\n",
       "    <tr>\n",
       "      <th>mean</th>\n",
       "      <td>99.796954</td>\n",
       "      <td>1.522843e+10</td>\n",
       "      <td>22.986294</td>\n",
       "      <td>30.158883</td>\n",
       "      <td>13.879188</td>\n",
       "    </tr>\n",
       "    <tr>\n",
       "      <th>std</th>\n",
       "      <td>57.788225</td>\n",
       "      <td>1.227723e+11</td>\n",
       "      <td>14.765475</td>\n",
       "      <td>21.675698</td>\n",
       "      <td>5.112512</td>\n",
       "    </tr>\n",
       "    <tr>\n",
       "      <th>min</th>\n",
       "      <td>1.000000</td>\n",
       "      <td>7.000000e-01</td>\n",
       "      <td>0.000000</td>\n",
       "      <td>0.300000</td>\n",
       "      <td>1.600000</td>\n",
       "    </tr>\n",
       "    <tr>\n",
       "      <th>25%</th>\n",
       "      <td>50.000000</td>\n",
       "      <td>7.340000e+01</td>\n",
       "      <td>9.900000</td>\n",
       "      <td>12.600000</td>\n",
       "      <td>10.300000</td>\n",
       "    </tr>\n",
       "    <tr>\n",
       "      <th>50%</th>\n",
       "      <td>100.000000</td>\n",
       "      <td>1.498000e+02</td>\n",
       "      <td>22.300000</td>\n",
       "      <td>25.600000</td>\n",
       "      <td>12.900000</td>\n",
       "    </tr>\n",
       "    <tr>\n",
       "      <th>75%</th>\n",
       "      <td>150.000000</td>\n",
       "      <td>2.203000e+02</td>\n",
       "      <td>36.300000</td>\n",
       "      <td>43.300000</td>\n",
       "      <td>17.300000</td>\n",
       "    </tr>\n",
       "    <tr>\n",
       "      <th>max</th>\n",
       "      <td>200.000000</td>\n",
       "      <td>1.000000e+12</td>\n",
       "      <td>49.600000</td>\n",
       "      <td>114.000000</td>\n",
       "      <td>27.000000</td>\n",
       "    </tr>\n",
       "  </tbody>\n",
       "</table>\n",
       "</div>"
      ],
      "text/plain": [
       "               id            TV       radio   newspaper       sales\n",
       "count  197.000000  1.970000e+02  197.000000  197.000000  197.000000\n",
       "mean    99.796954  1.522843e+10   22.986294   30.158883   13.879188\n",
       "std     57.788225  1.227723e+11   14.765475   21.675698    5.112512\n",
       "min      1.000000  7.000000e-01    0.000000    0.300000    1.600000\n",
       "25%     50.000000  7.340000e+01    9.900000   12.600000   10.300000\n",
       "50%    100.000000  1.498000e+02   22.300000   25.600000   12.900000\n",
       "75%    150.000000  2.203000e+02   36.300000   43.300000   17.300000\n",
       "max    200.000000  1.000000e+12   49.600000  114.000000   27.000000"
      ]
     },
     "execution_count": 3,
     "metadata": {},
     "output_type": "execute_result"
    }
   ],
   "source": [
    "clean_sales = sales.dropna(axis=0, how='any').drop_duplicates(subset=['id'])\n",
    "clean_sales.describe()"
   ]
  },
  {
   "cell_type": "markdown",
   "metadata": {},
   "source": [
    "Otra cosa a tener en cuenta es que el valor máximo de la columna **TV** es varios órdenes de magnitud mayor que los demás (10<sup>12</sup>). Dichos valores deben eliminarse, pues se salen del rango. "
   ]
  },
  {
   "cell_type": "code",
   "execution_count": 4,
   "metadata": {},
   "outputs": [
    {
     "data": {
      "text/html": [
       "<div>\n",
       "<style scoped>\n",
       "    .dataframe tbody tr th:only-of-type {\n",
       "        vertical-align: middle;\n",
       "    }\n",
       "\n",
       "    .dataframe tbody tr th {\n",
       "        vertical-align: top;\n",
       "    }\n",
       "\n",
       "    .dataframe thead th {\n",
       "        text-align: right;\n",
       "    }\n",
       "</style>\n",
       "<table border=\"1\" class=\"dataframe\">\n",
       "  <thead>\n",
       "    <tr style=\"text-align: right;\">\n",
       "      <th></th>\n",
       "      <th>id</th>\n",
       "      <th>TV</th>\n",
       "      <th>radio</th>\n",
       "      <th>newspaper</th>\n",
       "      <th>sales</th>\n",
       "    </tr>\n",
       "  </thead>\n",
       "  <tbody>\n",
       "    <tr>\n",
       "      <th>15</th>\n",
       "      <td>15</td>\n",
       "      <td>1.000000e+12</td>\n",
       "      <td>32.9</td>\n",
       "      <td>46.0</td>\n",
       "      <td>19.0</td>\n",
       "    </tr>\n",
       "    <tr>\n",
       "      <th>58</th>\n",
       "      <td>58</td>\n",
       "      <td>1.000000e+12</td>\n",
       "      <td>19.2</td>\n",
       "      <td>16.6</td>\n",
       "      <td>13.2</td>\n",
       "    </tr>\n",
       "    <tr>\n",
       "      <th>98</th>\n",
       "      <td>95</td>\n",
       "      <td>1.000000e+12</td>\n",
       "      <td>14.0</td>\n",
       "      <td>10.9</td>\n",
       "      <td>11.5</td>\n",
       "    </tr>\n",
       "    <tr>\n",
       "      <th>105</th>\n",
       "      <td>102</td>\n",
       "      <td>2.964000e+02</td>\n",
       "      <td>36.3</td>\n",
       "      <td>100.9</td>\n",
       "      <td>23.8</td>\n",
       "    </tr>\n",
       "    <tr>\n",
       "      <th>43</th>\n",
       "      <td>43</td>\n",
       "      <td>2.936000e+02</td>\n",
       "      <td>27.7</td>\n",
       "      <td>1.8</td>\n",
       "      <td>20.7</td>\n",
       "    </tr>\n",
       "    <tr>\n",
       "      <th>...</th>\n",
       "      <td>...</td>\n",
       "      <td>...</td>\n",
       "      <td>...</td>\n",
       "      <td>...</td>\n",
       "      <td>...</td>\n",
       "    </tr>\n",
       "    <tr>\n",
       "      <th>131</th>\n",
       "      <td>127</td>\n",
       "      <td>7.800000e+00</td>\n",
       "      <td>38.9</td>\n",
       "      <td>50.6</td>\n",
       "      <td>6.6</td>\n",
       "    </tr>\n",
       "    <tr>\n",
       "      <th>57</th>\n",
       "      <td>57</td>\n",
       "      <td>7.300000e+00</td>\n",
       "      <td>28.1</td>\n",
       "      <td>41.4</td>\n",
       "      <td>5.5</td>\n",
       "    </tr>\n",
       "    <tr>\n",
       "      <th>81</th>\n",
       "      <td>79</td>\n",
       "      <td>5.400000e+00</td>\n",
       "      <td>29.9</td>\n",
       "      <td>9.4</td>\n",
       "      <td>5.3</td>\n",
       "    </tr>\n",
       "    <tr>\n",
       "      <th>165</th>\n",
       "      <td>156</td>\n",
       "      <td>4.100000e+00</td>\n",
       "      <td>11.6</td>\n",
       "      <td>5.7</td>\n",
       "      <td>3.2</td>\n",
       "    </tr>\n",
       "    <tr>\n",
       "      <th>135</th>\n",
       "      <td>131</td>\n",
       "      <td>7.000000e-01</td>\n",
       "      <td>39.6</td>\n",
       "      <td>8.7</td>\n",
       "      <td>1.6</td>\n",
       "    </tr>\n",
       "  </tbody>\n",
       "</table>\n",
       "<p>197 rows × 5 columns</p>\n",
       "</div>"
      ],
      "text/plain": [
       "      id            TV  radio  newspaper  sales\n",
       "15    15  1.000000e+12   32.9       46.0   19.0\n",
       "58    58  1.000000e+12   19.2       16.6   13.2\n",
       "98    95  1.000000e+12   14.0       10.9   11.5\n",
       "105  102  2.964000e+02   36.3      100.9   23.8\n",
       "43    43  2.936000e+02   27.7        1.8   20.7\n",
       "..   ...           ...    ...        ...    ...\n",
       "131  127  7.800000e+00   38.9       50.6    6.6\n",
       "57    57  7.300000e+00   28.1       41.4    5.5\n",
       "81    79  5.400000e+00   29.9        9.4    5.3\n",
       "165  156  4.100000e+00   11.6        5.7    3.2\n",
       "135  131  7.000000e-01   39.6        8.7    1.6\n",
       "\n",
       "[197 rows x 5 columns]"
      ]
     },
     "execution_count": 4,
     "metadata": {},
     "output_type": "execute_result"
    }
   ],
   "source": [
    "clean_sales.sort_values(by='TV', ascending=False)"
   ]
  },
  {
   "cell_type": "markdown",
   "metadata": {},
   "source": [
    "El siguiente valor más alto después de los comentados es de 296, por lo que es interesante aplicar una máscara para filtrar aquellos valores que sean menores de 300."
   ]
  },
  {
   "cell_type": "code",
   "execution_count": 5,
   "metadata": {},
   "outputs": [
    {
     "data": {
      "text/html": [
       "<div>\n",
       "<style scoped>\n",
       "    .dataframe tbody tr th:only-of-type {\n",
       "        vertical-align: middle;\n",
       "    }\n",
       "\n",
       "    .dataframe tbody tr th {\n",
       "        vertical-align: top;\n",
       "    }\n",
       "\n",
       "    .dataframe thead th {\n",
       "        text-align: right;\n",
       "    }\n",
       "</style>\n",
       "<table border=\"1\" class=\"dataframe\">\n",
       "  <thead>\n",
       "    <tr style=\"text-align: right;\">\n",
       "      <th></th>\n",
       "      <th>id</th>\n",
       "      <th>TV</th>\n",
       "      <th>radio</th>\n",
       "      <th>newspaper</th>\n",
       "      <th>sales</th>\n",
       "    </tr>\n",
       "  </thead>\n",
       "  <tbody>\n",
       "    <tr>\n",
       "      <th>count</th>\n",
       "      <td>194.000000</td>\n",
       "      <td>194.000000</td>\n",
       "      <td>194.000000</td>\n",
       "      <td>194.000000</td>\n",
       "      <td>194.000000</td>\n",
       "    </tr>\n",
       "    <tr>\n",
       "      <th>mean</th>\n",
       "      <td>100.474227</td>\n",
       "      <td>145.444845</td>\n",
       "      <td>23.001031</td>\n",
       "      <td>30.246392</td>\n",
       "      <td>13.868557</td>\n",
       "    </tr>\n",
       "    <tr>\n",
       "      <th>std</th>\n",
       "      <td>57.831646</td>\n",
       "      <td>86.032061</td>\n",
       "      <td>14.846077</td>\n",
       "      <td>21.747570</td>\n",
       "      <td>5.135792</td>\n",
       "    </tr>\n",
       "    <tr>\n",
       "      <th>min</th>\n",
       "      <td>1.000000</td>\n",
       "      <td>0.700000</td>\n",
       "      <td>0.000000</td>\n",
       "      <td>0.300000</td>\n",
       "      <td>1.600000</td>\n",
       "    </tr>\n",
       "    <tr>\n",
       "      <th>25%</th>\n",
       "      <td>50.250000</td>\n",
       "      <td>71.300000</td>\n",
       "      <td>9.675000</td>\n",
       "      <td>12.650000</td>\n",
       "      <td>10.300000</td>\n",
       "    </tr>\n",
       "    <tr>\n",
       "      <th>50%</th>\n",
       "      <td>101.500000</td>\n",
       "      <td>148.500000</td>\n",
       "      <td>22.400000</td>\n",
       "      <td>25.600000</td>\n",
       "      <td>12.850000</td>\n",
       "    </tr>\n",
       "    <tr>\n",
       "      <th>75%</th>\n",
       "      <td>150.750000</td>\n",
       "      <td>218.475000</td>\n",
       "      <td>36.450000</td>\n",
       "      <td>43.275000</td>\n",
       "      <td>17.275000</td>\n",
       "    </tr>\n",
       "    <tr>\n",
       "      <th>max</th>\n",
       "      <td>200.000000</td>\n",
       "      <td>296.400000</td>\n",
       "      <td>49.600000</td>\n",
       "      <td>114.000000</td>\n",
       "      <td>27.000000</td>\n",
       "    </tr>\n",
       "  </tbody>\n",
       "</table>\n",
       "</div>"
      ],
      "text/plain": [
       "               id          TV       radio   newspaper       sales\n",
       "count  194.000000  194.000000  194.000000  194.000000  194.000000\n",
       "mean   100.474227  145.444845   23.001031   30.246392   13.868557\n",
       "std     57.831646   86.032061   14.846077   21.747570    5.135792\n",
       "min      1.000000    0.700000    0.000000    0.300000    1.600000\n",
       "25%     50.250000   71.300000    9.675000   12.650000   10.300000\n",
       "50%    101.500000  148.500000   22.400000   25.600000   12.850000\n",
       "75%    150.750000  218.475000   36.450000   43.275000   17.275000\n",
       "max    200.000000  296.400000   49.600000  114.000000   27.000000"
      ]
     },
     "execution_count": 5,
     "metadata": {},
     "output_type": "execute_result"
    }
   ],
   "source": [
    "clean_sales = clean_sales[clean_sales.TV < 300] \n",
    "clean_sales.describe()"
   ]
  },
  {
   "cell_type": "markdown",
   "metadata": {},
   "source": [
    "### Figuras y regresión lineal 📈"
   ]
  },
  {
   "cell_type": "markdown",
   "metadata": {},
   "source": [
    "A continuación, se representa el número de ventas frente a cada una de las columnas que indican el dinero destinado a cada medio. Se quiere saber si la dependencia de estos datos es lineal, para lo cual, además de la representación, se calcula el [coeficiente de correlación de Pearson](https://en.wikipedia.org/wiki/Pearson_correlation_coefficient), mostrándose en cada una de las figuras. \n"
   ]
  },
  {
   "cell_type": "code",
   "execution_count": 6,
   "metadata": {},
   "outputs": [
    {
     "data": {
      "text/plain": [
       "Text(0, 0.5, 'Thousands of units sold')"
      ]
     },
     "execution_count": 6,
     "metadata": {},
     "output_type": "execute_result"
    },
    {
     "data": {
      "image/png": "[encoded data removed]",
      "text/plain": [
       "<Figure size 432x288 with 1 Axes>"
      ]
     },
     "metadata": {},
     "output_type": "display_data"
    }
   ],
   "source": [
    "tv_sales_corr = np.corrcoef(clean_sales['TV'], clean_sales['sales'])\n",
    "\n",
    "plt.ylim(-10, 85)\n",
    "tv_sales = sns.regplot(data=clean_sales, x=clean_sales['TV'], y=clean_sales['sales'], fit_reg=True, truncate=False, color = 'royalblue')\n",
    "plt.title(f'Sales from TV: {tv_sales_corr[0][1]:.4f} ')\n",
    "plt.xlabel('Investment in TV (€)')\n",
    "plt.ylabel('Thousands of units sold')\n"
   ]
  },
  {
   "cell_type": "code",
   "execution_count": 7,
   "metadata": {},
   "outputs": [
    {
     "data": {
      "text/plain": [
       "Text(0, 0.5, 'Thousands of units sold')"
      ]
     },
     "execution_count": 7,
     "metadata": {},
     "output_type": "execute_result"
    },
    {
     "data": {
      "image/png": "[encoded data removed]",
      "text/plain": [
       "<Figure size 432x288 with 1 Axes>"
      ]
     },
     "metadata": {},
     "output_type": "display_data"
    }
   ],
   "source": [
    "newpaper_sales_corr = np.corrcoef(clean_sales['newspaper'], clean_sales['sales'])\n",
    "\n",
    "plt.xlim(-10,300)\n",
    "plt.ylim(-10, 85)\n",
    "tv_sales = sns.regplot(data=clean_sales, x=clean_sales['newspaper'], y=clean_sales['sales'], fit_reg=True, truncate=False, color= 'crimson')\n",
    "plt.title(f'Sales from newspaper: {newpaper_sales_corr[0][1]:.4f} ')\n",
    "plt.xlabel('Investment in newspaper (€)')\n",
    "plt.ylabel('Thousands of units sold')"
   ]
  },
  {
   "cell_type": "code",
   "execution_count": 8,
   "metadata": {},
   "outputs": [
    {
     "data": {
      "text/plain": [
       "Text(0, 0.5, 'Thousands of units sold')"
      ]
     },
     "execution_count": 8,
     "metadata": {},
     "output_type": "execute_result"
    },
    {
     "data": {
      "image/png": "[encoded data removed]",
      "text/plain": [
       "<Figure size 432x288 with 1 Axes>"
      ]
     },
     "metadata": {},
     "output_type": "display_data"
    }
   ],
   "source": [
    "radio_sales_corr = np.corrcoef(clean_sales['radio'], clean_sales['sales'])\n",
    "\n",
    "plt.xlim(-10,300)\n",
    "tv_sales = sns.regplot(data=clean_sales, x=clean_sales['radio'], y=clean_sales['sales'], fit_reg=True, truncate=False, color= 'seagreen')\n",
    "plt.title(f'Sales from radio: {radio_sales_corr[0][1]:.4f} ')\n",
    "plt.xlabel('Investment in radio (€)')\n",
    "plt.ylabel('Thousands of units sold')"
   ]
  },
  {
   "cell_type": "markdown",
   "metadata": {},
   "source": [
    "Los coeficientes de correlación indican que el número de ventas aumentan al aumentar la inversión en los tres medios. Sin embargo, sólo la inversión en **TV** presenta una clara correlación lineal. Esto puede deberse a que las cantidades invertidas en este medio son menos uniformes, es decir, los puntos se extienden más a lo largo del eje de las x, mientras que en los otros dos casos el rango en x es mucho menor. "
   ]
  },
  {
   "cell_type": "markdown",
   "metadata": {},
   "source": [
    "## Paso 2"
   ]
  },
  {
   "cell_type": "markdown",
   "metadata": {},
   "source": [
    "### Campañas exitosas 🏆"
   ]
  },
  {
   "cell_type": "markdown",
   "metadata": {},
   "source": [
    "Se quiere saber cuántas de las campañas lanzadas resultaron exitosas. Para ello, se debe conocer la cantidad total invertida por cada venta. "
   ]
  },
  {
   "cell_type": "code",
   "execution_count": 9,
   "metadata": {},
   "outputs": [
    {
     "data": {
      "text/html": [
       "<div>\n",
       "<style scoped>\n",
       "    .dataframe tbody tr th:only-of-type {\n",
       "        vertical-align: middle;\n",
       "    }\n",
       "\n",
       "    .dataframe tbody tr th {\n",
       "        vertical-align: top;\n",
       "    }\n",
       "\n",
       "    .dataframe thead th {\n",
       "        text-align: right;\n",
       "    }\n",
       "</style>\n",
       "<table border=\"1\" class=\"dataframe\">\n",
       "  <thead>\n",
       "    <tr style=\"text-align: right;\">\n",
       "      <th></th>\n",
       "      <th>id</th>\n",
       "      <th>TV</th>\n",
       "      <th>radio</th>\n",
       "      <th>newspaper</th>\n",
       "      <th>sales</th>\n",
       "      <th>Total investments</th>\n",
       "    </tr>\n",
       "  </thead>\n",
       "  <tbody>\n",
       "    <tr>\n",
       "      <th>0</th>\n",
       "      <td>1</td>\n",
       "      <td>230.1</td>\n",
       "      <td>37.8</td>\n",
       "      <td>69.2</td>\n",
       "      <td>22.1</td>\n",
       "      <td>15.253394</td>\n",
       "    </tr>\n",
       "    <tr>\n",
       "      <th>1</th>\n",
       "      <td>2</td>\n",
       "      <td>44.5</td>\n",
       "      <td>39.3</td>\n",
       "      <td>45.1</td>\n",
       "      <td>10.4</td>\n",
       "      <td>12.394231</td>\n",
       "    </tr>\n",
       "    <tr>\n",
       "      <th>2</th>\n",
       "      <td>3</td>\n",
       "      <td>17.2</td>\n",
       "      <td>45.9</td>\n",
       "      <td>69.3</td>\n",
       "      <td>9.3</td>\n",
       "      <td>14.236559</td>\n",
       "    </tr>\n",
       "    <tr>\n",
       "      <th>3</th>\n",
       "      <td>4</td>\n",
       "      <td>151.5</td>\n",
       "      <td>41.3</td>\n",
       "      <td>58.5</td>\n",
       "      <td>18.5</td>\n",
       "      <td>13.583784</td>\n",
       "    </tr>\n",
       "    <tr>\n",
       "      <th>4</th>\n",
       "      <td>5</td>\n",
       "      <td>180.8</td>\n",
       "      <td>10.8</td>\n",
       "      <td>58.4</td>\n",
       "      <td>12.9</td>\n",
       "      <td>19.379845</td>\n",
       "    </tr>\n",
       "    <tr>\n",
       "      <th>...</th>\n",
       "      <td>...</td>\n",
       "      <td>...</td>\n",
       "      <td>...</td>\n",
       "      <td>...</td>\n",
       "      <td>...</td>\n",
       "      <td>...</td>\n",
       "    </tr>\n",
       "    <tr>\n",
       "      <th>204</th>\n",
       "      <td>195</td>\n",
       "      <td>149.7</td>\n",
       "      <td>35.6</td>\n",
       "      <td>6.0</td>\n",
       "      <td>17.3</td>\n",
       "      <td>11.057803</td>\n",
       "    </tr>\n",
       "    <tr>\n",
       "      <th>205</th>\n",
       "      <td>196</td>\n",
       "      <td>38.2</td>\n",
       "      <td>3.7</td>\n",
       "      <td>13.8</td>\n",
       "      <td>7.6</td>\n",
       "      <td>7.328947</td>\n",
       "    </tr>\n",
       "    <tr>\n",
       "      <th>206</th>\n",
       "      <td>197</td>\n",
       "      <td>94.2</td>\n",
       "      <td>4.9</td>\n",
       "      <td>8.1</td>\n",
       "      <td>9.7</td>\n",
       "      <td>11.051546</td>\n",
       "    </tr>\n",
       "    <tr>\n",
       "      <th>207</th>\n",
       "      <td>198</td>\n",
       "      <td>177.0</td>\n",
       "      <td>9.3</td>\n",
       "      <td>6.4</td>\n",
       "      <td>12.8</td>\n",
       "      <td>15.054688</td>\n",
       "    </tr>\n",
       "    <tr>\n",
       "      <th>209</th>\n",
       "      <td>200</td>\n",
       "      <td>232.1</td>\n",
       "      <td>8.6</td>\n",
       "      <td>8.7</td>\n",
       "      <td>13.4</td>\n",
       "      <td>18.611940</td>\n",
       "    </tr>\n",
       "  </tbody>\n",
       "</table>\n",
       "<p>194 rows × 6 columns</p>\n",
       "</div>"
      ],
      "text/plain": [
       "      id     TV  radio  newspaper  sales  Total investments\n",
       "0      1  230.1   37.8       69.2   22.1          15.253394\n",
       "1      2   44.5   39.3       45.1   10.4          12.394231\n",
       "2      3   17.2   45.9       69.3    9.3          14.236559\n",
       "3      4  151.5   41.3       58.5   18.5          13.583784\n",
       "4      5  180.8   10.8       58.4   12.9          19.379845\n",
       "..   ...    ...    ...        ...    ...                ...\n",
       "204  195  149.7   35.6        6.0   17.3          11.057803\n",
       "205  196   38.2    3.7       13.8    7.6           7.328947\n",
       "206  197   94.2    4.9        8.1    9.7          11.051546\n",
       "207  198  177.0    9.3        6.4   12.8          15.054688\n",
       "209  200  232.1    8.6        8.7   13.4          18.611940\n",
       "\n",
       "[194 rows x 6 columns]"
      ]
     },
     "execution_count": 9,
     "metadata": {},
     "output_type": "execute_result"
    }
   ],
   "source": [
    "total_investments = (clean_sales['TV'] + clean_sales['newspaper'] + clean_sales['radio']) / clean_sales['sales']\n",
    "clean_sales['Total investments'] = total_investments\n",
    "clean_sales"
   ]
  },
  {
   "cell_type": "markdown",
   "metadata": {},
   "source": [
    "Las condiciones que deben cumplirse para considerar una campaña exitosa son:\n",
    "\n",
    "- El total de dinero invertido por venta debe ser menor de 20€\n",
    "\n",
    "- El número de unidades vendidas debe ser mayor de 15000"
   ]
  },
  {
   "cell_type": "code",
   "execution_count": 10,
   "metadata": {},
   "outputs": [
    {
     "data": {
      "text/plain": [
       "False    124\n",
       "True      70\n",
       "Name: success, dtype: int64"
      ]
     },
     "execution_count": 10,
     "metadata": {},
     "output_type": "execute_result"
    }
   ],
   "source": [
    "clean_sales ['success'] = np.where((clean_sales['Total investments'] < 20) & (clean_sales['sales'] > 15), True, False)\n",
    "clean_sales.success.value_counts()"
   ]
  },
  {
   "cell_type": "markdown",
   "metadata": {},
   "source": [
    "De acuerdo con las condiciones, hubo 70 campañas exitosas."
   ]
  },
  {
   "cell_type": "markdown",
   "metadata": {},
   "source": [
    "## Paso 3"
   ]
  },
  {
   "cell_type": "markdown",
   "metadata": {},
   "source": [
    "### Creación de conjunto de entrenamiento y prueba 🧪"
   ]
  },
  {
   "cell_type": "markdown",
   "metadata": {},
   "source": [
    "El primer paso es decidir que porcentaje del total de los datos se va a destinar a entrenamiento y qué porcentaje se va a destinar a probar el modelo. \n",
    "\n",
    "Scikit cuenta con la función `sklearn.model_selection.train_test_split()` para este propósito. \n",
    "\n",
    "En este caso, se quieren seleccionar aquellos datos con id <= 160 para que sean el conjunto de entrenamiento, por lo tanto:"
   ]
  },
  {
   "cell_type": "code",
   "execution_count": 11,
   "metadata": {},
   "outputs": [],
   "source": [
    "from sklearn.model_selection import train_test_split\n",
    "\n",
    "x = clean_sales[['TV', 'newspaper', 'radio']]\n",
    "y = clean_sales['success']\n",
    "\n",
    "x_train, x_test, y_train, y_test = train_test_split(x, y, train_size=0.80, random_state=42, shuffle=False)"
   ]
  },
  {
   "cell_type": "markdown",
   "metadata": {},
   "source": [
    "### Entrenamiento de clasificadores 🚴‍♀️"
   ]
  },
  {
   "cell_type": "markdown",
   "metadata": {},
   "source": [
    "A continuación, se quieren entrenar tres clasificadores: \n",
    "\n",
    "- Gaussian Naive-Bayes\n",
    "- Regresión Logística\n",
    "- Random Forest\n",
    "\n",
    "El objetivo es que estos modelos sean capaces de predecir si una campaña será o no exitosa en base al dinero invertido en cada uno de los canales de comunicación."
   ]
  },
  {
   "cell_type": "code",
   "execution_count": 12,
   "metadata": {},
   "outputs": [
    {
     "name": "stdout",
     "output_type": "stream",
     "text": [
      "Fracción clasificada correctamente para GaussianNB(): 0.94\n",
      "Fracción clasificada correctamente para LogisticRegression(random_state=0): 0.93\n",
      "Fracción clasificada correctamente para RandomForestClassifier(max_depth=2, random_state=0): 0.96\n"
     ]
    }
   ],
   "source": [
    "from sklearn.naive_bayes import GaussianNB\n",
    "from sklearn.linear_model import LogisticRegression \n",
    "from sklearn.ensemble import RandomForestClassifier\n",
    "\n",
    "classifiers = [GaussianNB(), LogisticRegression(random_state=0), RandomForestClassifier(max_depth=2, random_state=0)]\n",
    "\n",
    "for clf in classifiers: \n",
    "    fitting = clf.fit(x_train, y_train)\n",
    "    score = clf.score(x_train, y_train)\n",
    "    print(f'Fracción clasificada correctamente para {clf}: {score:.2f}')"
   ]
  },
  {
   "cell_type": "markdown",
   "metadata": {},
   "source": [
    "Se observa que el clasificador Random Forest es el que logra mayor porcentaje de aciertos."
   ]
  },
  {
   "cell_type": "markdown",
   "metadata": {},
   "source": [
    "## Paso 4"
   ]
  },
  {
   "cell_type": "markdown",
   "metadata": {},
   "source": [
    "### Evaluación del rendimiento de los clasificadores 📑"
   ]
  },
  {
   "cell_type": "markdown",
   "metadata": {},
   "source": [
    "Se aplica ahora la función `score()` sobre el conjunto de prueba."
   ]
  },
  {
   "cell_type": "code",
   "execution_count": 13,
   "metadata": {},
   "outputs": [
    {
     "name": "stdout",
     "output_type": "stream",
     "text": [
      "Fracción clasificada correctamente para GaussianNB(): 0.97\n",
      "Fracción clasificada correctamente para LogisticRegression(random_state=0): 0.97\n",
      "Fracción clasificada correctamente para RandomForestClassifier(max_depth=2, random_state=0): 0.95\n"
     ]
    }
   ],
   "source": [
    "for clf in classifiers: \n",
    "    score = clf.score(x_test, y_test)\n",
    "    print(f'Fracción clasificada correctamente para {clf}: {score:.2f}')"
   ]
  },
  {
   "cell_type": "markdown",
   "metadata": {},
   "source": [
    "Se observa un cambio respecto al conjunto de entrenamiento. Ahora son el modelo Gaussian NB y la regresión logística los que predicen de manera más exacta el éxito de una campaña."
   ]
  },
  {
   "cell_type": "markdown",
   "metadata": {},
   "source": [
    "Scikit permite evaluar el número de falsos positivos y falsos negativos a través de la matriz de confusión. "
   ]
  },
  {
   "cell_type": "code",
   "execution_count": 14,
   "metadata": {},
   "outputs": [
    {
     "data": {
      "image/png": "[encoded data removed]",
      "text/plain": [
       "<Figure size 288x288 with 1 Axes>"
      ]
     },
     "metadata": {},
     "output_type": "display_data"
    },
    {
     "data": {
      "image/png": "[encoded data removed]",
      "text/plain": [
       "<Figure size 288x288 with 1 Axes>"
      ]
     },
     "metadata": {},
     "output_type": "display_data"
    },
    {
     "data": {
      "image/png": "[encoded data removed]",
      "text/plain": [
       "<Figure size 288x288 with 1 Axes>"
      ]
     },
     "metadata": {},
     "output_type": "display_data"
    }
   ],
   "source": [
    "from sklearn.metrics import precision_score, confusion_matrix\n",
    "\n",
    "for clf in classifiers:\n",
    "    cm = confusion_matrix(y_test, clf.predict(x_test))\n",
    "    fig, ax = plt.subplots(figsize=(4, 4))\n",
    "    fig.suptitle(f'Matriz de confusión {clf}')\n",
    "    ax.imshow(cm)\n",
    "    ax.grid(False)\n",
    "    ax.xaxis.set(ticks=(0, 1), ticklabels=('Predicted 0s', 'Predicted 1s'))\n",
    "    ax.yaxis.set(ticks=(0, 1), ticklabels=('Negativos', 'Actual 1s'))\n",
    "    ax.set_ylim(1.5, -0.5)\n",
    "    for i in range(2):\n",
    "        for j in range(2):\n",
    "            ax.text(j, i, cm[i, j], ha='center', va='center', color='dimgrey')\n",
    "    plt.show()"
   ]
  },
  {
   "cell_type": "markdown",
   "metadata": {},
   "source": [
    "Del análisis de las matrices de confusión se tiene que:\n",
    "\n",
    "| Gaussian NB | Regresión logística | Random Forest |\n",
    "| -- | -- | -- |\n",
    "| Falsos negativos: 1 | Falsos negativos: 0 | Falsos negativos: 1 |\n",
    "| Falsos positivos: 0 | Falsos positivos: 1 | Falsos positivos: 1 |\n",
    "\n",
    "\n",
    "\n",
    "    "
   ]
  },
  {
   "cell_type": "markdown",
   "metadata": {},
   "source": [
    "Por último, se quiere saber cuál es la proporción de falsos positivos sobre el total de predicciones. "
   ]
  },
  {
   "cell_type": "code",
   "execution_count": 15,
   "metadata": {},
   "outputs": [
    {
     "name": "stdout",
     "output_type": "stream",
     "text": [
      "Puntuación de precisión para GaussianNB(): 1.00\n",
      "Puntuación de precisión para LogisticRegression(random_state=0): 0.92\n",
      "Puntuación de precisión para RandomForestClassifier(max_depth=2, random_state=0): 0.91\n"
     ]
    }
   ],
   "source": [
    "for clf in classifiers:\n",
    "    y_pred = clf.predict(x_test)\n",
    "    y_true = y_test\n",
    "    precision = precision_score(y_true, y_pred)\n",
    "    print(f'Puntuación de precisión para {clf}: {precision:.2f}')"
   ]
  },
  {
   "cell_type": "markdown",
   "metadata": {},
   "source": [
    "El clasificador GaussianNB es el que más verdaderos positivos tiene. "
   ]
  },
  {
   "cell_type": "markdown",
   "metadata": {},
   "source": [
    "## Conclusiones ✅"
   ]
  },
  {
   "cell_type": "markdown",
   "metadata": {},
   "source": [
    "A pesar de que el random forest logra mejores resultados al predecir sobre el subconjunto de entrenamiento, el clasificador que obtiene mejores resultados al analizar un subconjunto de datos por primera vez después del entrenamiento es el **Gaussian Naive-Bayes**. \n",
    "\n",
    "Además, no se obtiene ningún falso positivo al utilizar este clasificador, por lo que sería el más adecuado para llevar a cabo estas predicciones.\n"
   ]
  }
 ],
 "metadata": {
  "kernelspec": {
   "display_name": "Python 3",
   "language": "python",
   "name": "python3"
  },
  "language_info": {
   "codemirror_mode": {
    "name": "ipython",
    "version": 3
   },
   "file_extension": ".py",
   "mimetype": "text/x-python",
   "name": "python",
   "nbconvert_exporter": "python",
   "pygments_lexer": "ipython3",
   "version": "3.8.2"
  }
 },
 "nbformat": 4,
 "nbformat_minor": 4
}
